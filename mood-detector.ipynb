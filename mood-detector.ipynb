{
 "cells": [
  {
   "cell_type": "markdown",
   "metadata": {},
   "source": [
    "# Problem Statement"
   ]
  },
  {
   "cell_type": "markdown",
   "metadata": {},
   "source": [
    "The objective of this study is to classify mood of the person from facial expressions Images are categorized in three classes namely sadness, fear and happiness based on the emotion shown in the facial expressions"
   ]
  },
  {
   "cell_type": "markdown",
   "metadata": {},
   "source": [
    "### Import Libraries"
   ]
  },
  {
   "cell_type": "code",
   "execution_count": 1,
   "metadata": {},
   "outputs": [],
   "source": [
    "import cv2\n",
    "from PIL import Image\n",
    "import matplotlib.pyplot as plt\n",
    "import numpy as np\n",
    "import os\n",
    "import pandas as pd \n",
    "import seaborn as sns\n",
    "from sklearn.model_selection import train_test_split\n",
    "from sklearn.metrics import accuracy_score\n",
    "from sklearn.metrics import confusion_matrix\n",
    "from tensorflow.keras.models import Sequential\n",
    "from tensorflow.keras.layers import Dense, Dropout, Flatten\n",
    "from tensorflow.keras.layers import Conv2D\n",
    "from tensorflow.keras.optimizers import Adam\n",
    "from tensorflow.keras.layers import MaxPooling2D\n",
    "from tensorflow.keras.preprocessing.image import ImageDataGenerator"
   ]
  },
  {
   "cell_type": "markdown",
   "metadata": {},
   "source": [
    "### Read the csv file and basic data exploration"
   ]
  },
  {
   "cell_type": "code",
   "execution_count": 2,
   "metadata": {},
   "outputs": [],
   "source": [
    "df = pd.read_csv('./data/aithon2020_level2_traning.csv')"
   ]
  },
  {
   "cell_type": "code",
   "execution_count": 3,
   "metadata": {},
   "outputs": [
    {
     "data": {
      "text/plain": [
       "(10817, 2305)"
      ]
     },
     "execution_count": 3,
     "metadata": {},
     "output_type": "execute_result"
    }
   ],
   "source": [
    "df.shape"
   ]
  },
  {
   "cell_type": "code",
   "execution_count": 4,
   "metadata": {},
   "outputs": [
    {
     "data": {
      "text/plain": [
       "array(['Fear', 'Sad', 'Happy'], dtype=object)"
      ]
     },
     "execution_count": 4,
     "metadata": {},
     "output_type": "execute_result"
    }
   ],
   "source": [
    "#Number of moods in dataset\n",
    "df.emotion.unique() "
   ]
  },
  {
   "cell_type": "code",
   "execution_count": 5,
   "metadata": {},
   "outputs": [
    {
     "data": {
      "text/html": [
       "<div>\n",
       "<style scoped>\n",
       "    .dataframe tbody tr th:only-of-type {\n",
       "        vertical-align: middle;\n",
       "    }\n",
       "\n",
       "    .dataframe tbody tr th {\n",
       "        vertical-align: top;\n",
       "    }\n",
       "\n",
       "    .dataframe thead th {\n",
       "        text-align: right;\n",
       "    }\n",
       "</style>\n",
       "<table border=\"1\" class=\"dataframe\">\n",
       "  <thead>\n",
       "    <tr style=\"text-align: right;\">\n",
       "      <th></th>\n",
       "      <th>emotion</th>\n",
       "      <th>pixel_0</th>\n",
       "      <th>pixel_1</th>\n",
       "      <th>pixel_2</th>\n",
       "      <th>pixel_3</th>\n",
       "      <th>pixel_4</th>\n",
       "      <th>pixel_5</th>\n",
       "      <th>pixel_6</th>\n",
       "      <th>pixel_7</th>\n",
       "      <th>pixel_8</th>\n",
       "      <th>...</th>\n",
       "      <th>pixel_2294</th>\n",
       "      <th>pixel_2295</th>\n",
       "      <th>pixel_2296</th>\n",
       "      <th>pixel_2297</th>\n",
       "      <th>pixel_2298</th>\n",
       "      <th>pixel_2299</th>\n",
       "      <th>pixel_2300</th>\n",
       "      <th>pixel_2301</th>\n",
       "      <th>pixel_2302</th>\n",
       "      <th>pixel_2303</th>\n",
       "    </tr>\n",
       "  </thead>\n",
       "  <tbody>\n",
       "    <tr>\n",
       "      <th>0</th>\n",
       "      <td>Fear</td>\n",
       "      <td>231</td>\n",
       "      <td>212</td>\n",
       "      <td>156</td>\n",
       "      <td>164</td>\n",
       "      <td>174</td>\n",
       "      <td>138</td>\n",
       "      <td>161</td>\n",
       "      <td>173</td>\n",
       "      <td>182</td>\n",
       "      <td>...</td>\n",
       "      <td>104</td>\n",
       "      <td>138</td>\n",
       "      <td>152</td>\n",
       "      <td>122</td>\n",
       "      <td>114</td>\n",
       "      <td>101</td>\n",
       "      <td>97</td>\n",
       "      <td>88</td>\n",
       "      <td>110</td>\n",
       "      <td>152</td>\n",
       "    </tr>\n",
       "    <tr>\n",
       "      <th>1</th>\n",
       "      <td>Fear</td>\n",
       "      <td>55</td>\n",
       "      <td>55</td>\n",
       "      <td>55</td>\n",
       "      <td>55</td>\n",
       "      <td>55</td>\n",
       "      <td>54</td>\n",
       "      <td>60</td>\n",
       "      <td>68</td>\n",
       "      <td>54</td>\n",
       "      <td>...</td>\n",
       "      <td>90</td>\n",
       "      <td>83</td>\n",
       "      <td>77</td>\n",
       "      <td>53</td>\n",
       "      <td>37</td>\n",
       "      <td>34</td>\n",
       "      <td>30</td>\n",
       "      <td>34</td>\n",
       "      <td>30</td>\n",
       "      <td>57</td>\n",
       "    </tr>\n",
       "    <tr>\n",
       "      <th>2</th>\n",
       "      <td>Sad</td>\n",
       "      <td>20</td>\n",
       "      <td>17</td>\n",
       "      <td>19</td>\n",
       "      <td>21</td>\n",
       "      <td>25</td>\n",
       "      <td>38</td>\n",
       "      <td>42</td>\n",
       "      <td>42</td>\n",
       "      <td>46</td>\n",
       "      <td>...</td>\n",
       "      <td>29</td>\n",
       "      <td>36</td>\n",
       "      <td>68</td>\n",
       "      <td>91</td>\n",
       "      <td>85</td>\n",
       "      <td>93</td>\n",
       "      <td>97</td>\n",
       "      <td>99</td>\n",
       "      <td>107</td>\n",
       "      <td>118</td>\n",
       "    </tr>\n",
       "    <tr>\n",
       "      <th>3</th>\n",
       "      <td>Happy</td>\n",
       "      <td>4</td>\n",
       "      <td>2</td>\n",
       "      <td>13</td>\n",
       "      <td>41</td>\n",
       "      <td>56</td>\n",
       "      <td>62</td>\n",
       "      <td>67</td>\n",
       "      <td>87</td>\n",
       "      <td>95</td>\n",
       "      <td>...</td>\n",
       "      <td>59</td>\n",
       "      <td>66</td>\n",
       "      <td>80</td>\n",
       "      <td>74</td>\n",
       "      <td>69</td>\n",
       "      <td>99</td>\n",
       "      <td>28</td>\n",
       "      <td>3</td>\n",
       "      <td>7</td>\n",
       "      <td>12</td>\n",
       "    </tr>\n",
       "    <tr>\n",
       "      <th>4</th>\n",
       "      <td>Fear</td>\n",
       "      <td>255</td>\n",
       "      <td>255</td>\n",
       "      <td>255</td>\n",
       "      <td>255</td>\n",
       "      <td>255</td>\n",
       "      <td>255</td>\n",
       "      <td>255</td>\n",
       "      <td>255</td>\n",
       "      <td>255</td>\n",
       "      <td>...</td>\n",
       "      <td>94</td>\n",
       "      <td>21</td>\n",
       "      <td>22</td>\n",
       "      <td>51</td>\n",
       "      <td>71</td>\n",
       "      <td>80</td>\n",
       "      <td>82</td>\n",
       "      <td>79</td>\n",
       "      <td>79</td>\n",
       "      <td>83</td>\n",
       "    </tr>\n",
       "  </tbody>\n",
       "</table>\n",
       "<p>5 rows × 2305 columns</p>\n",
       "</div>"
      ],
      "text/plain": [
       "  emotion  pixel_0  pixel_1  pixel_2  pixel_3  pixel_4  pixel_5  pixel_6  \\\n",
       "0    Fear      231      212      156      164      174      138      161   \n",
       "1    Fear       55       55       55       55       55       54       60   \n",
       "2     Sad       20       17       19       21       25       38       42   \n",
       "3   Happy        4        2       13       41       56       62       67   \n",
       "4    Fear      255      255      255      255      255      255      255   \n",
       "\n",
       "   pixel_7  pixel_8  ...  pixel_2294  pixel_2295  pixel_2296  pixel_2297  \\\n",
       "0      173      182  ...         104         138         152         122   \n",
       "1       68       54  ...          90          83          77          53   \n",
       "2       42       46  ...          29          36          68          91   \n",
       "3       87       95  ...          59          66          80          74   \n",
       "4      255      255  ...          94          21          22          51   \n",
       "\n",
       "   pixel_2298  pixel_2299  pixel_2300  pixel_2301  pixel_2302  pixel_2303  \n",
       "0         114         101          97          88         110         152  \n",
       "1          37          34          30          34          30          57  \n",
       "2          85          93          97          99         107         118  \n",
       "3          69          99          28           3           7          12  \n",
       "4          71          80          82          79          79          83  \n",
       "\n",
       "[5 rows x 2305 columns]"
      ]
     },
     "execution_count": 5,
     "metadata": {},
     "output_type": "execute_result"
    }
   ],
   "source": [
    "df.head()"
   ]
  },
  {
   "cell_type": "code",
   "execution_count": 6,
   "metadata": {},
   "outputs": [
    {
     "name": "stdout",
     "output_type": "stream",
     "text": [
      "Series([], dtype: int64)\n"
     ]
    }
   ],
   "source": [
    "missing_val_count_by_column = (df.isnull().sum())\n",
    "print(missing_val_count_by_column[missing_val_count_by_column > 0])"
   ]
  },
  {
   "cell_type": "markdown",
   "metadata": {},
   "source": [
    "### Split the data into train, validation and test at ratio 80:10:10"
   ]
  },
  {
   "cell_type": "code",
   "execution_count": 7,
   "metadata": {},
   "outputs": [
    {
     "data": {
      "text/plain": [
       "(1082, 2305)"
      ]
     },
     "execution_count": 7,
     "metadata": {},
     "output_type": "execute_result"
    }
   ],
   "source": [
    "traincsv, testcsv = train_test_split(df, test_size=0.1)\n",
    "testcsv.shape"
   ]
  },
  {
   "cell_type": "markdown",
   "metadata": {},
   "source": [
    "### Traing the data the data"
   ]
  },
  {
   "cell_type": "code",
   "execution_count": 8,
   "metadata": {},
   "outputs": [
    {
     "name": "stdout",
     "output_type": "stream",
     "text": [
      "(8653, 2305)\n",
      "(1082, 2305)\n"
     ]
    }
   ],
   "source": [
    "train, validation = train_test_split(traincsv, test_size=0.1111)\n",
    "print(train.shape)\n",
    "print(validation.shape)"
   ]
  },
  {
   "cell_type": "code",
   "execution_count": 9,
   "metadata": {},
   "outputs": [],
   "source": [
    "def getImageinDirectory(train):\n",
    "    fear = 0\n",
    "    happy = 0\n",
    "    sad = 0\n",
    "    mat = np.zeros((48,48),dtype=np.uint8)\n",
    "    for i in range(len(train)):\n",
    "        words=train.iloc[i,1:].values\n",
    "        # the image size is 48x48\n",
    "        for j in range(2304):\n",
    "            xind = j // 48\n",
    "            yind = j % 48\n",
    "            mat[xind][yind] = words[j]\n",
    "\n",
    "        img = Image.fromarray(mat)\n",
    "        if train.iloc[i,0] == 'Fear':\n",
    "            img.save('./source/'+train.name+'/fear/fear'+str(fear)+'.png')\n",
    "            fear += 1\n",
    "        elif train.iloc[i,0] == 'Happy':\n",
    "            img.save('./source/'+train.name+'/happy/happy'+str(happy)+'.png')\n",
    "            happy += 1\n",
    "        elif train.iloc[i,0] == 'Sad': \n",
    "            img.save('./source/'+train.name+'/sad/sad'+str(sad)+'.png')\n",
    "            sad += 1"
   ]
  },
  {
   "cell_type": "code",
   "execution_count": 10,
   "metadata": {},
   "outputs": [],
   "source": [
    "train.name='train'\n",
    "validation.name='validation'\n",
    "getImageinDirectory(validation);\n",
    "getImageinDirectory(train);"
   ]
  },
  {
   "cell_type": "code",
   "execution_count": 11,
   "metadata": {},
   "outputs": [],
   "source": [
    "train_dir = './source/train'\n",
    "val_dir = './source/validation'\n",
    "\n",
    "num_train = len(train)\n",
    "num_val = len(validation)\n",
    "batch_size = 32\n",
    "num_epoch = 50"
   ]
  },
  {
   "cell_type": "code",
   "execution_count": 12,
   "metadata": {},
   "outputs": [
    {
     "name": "stdout",
     "output_type": "stream",
     "text": [
      "Found 8653 images belonging to 3 classes.\n",
      "Found 1082 images belonging to 3 classes.\n"
     ]
    }
   ],
   "source": [
    "train_datagen = ImageDataGenerator(rescale=1./255)\n",
    "val_datagen = ImageDataGenerator(rescale=1./255)\n",
    "train_generator = train_datagen.flow_from_directory(\n",
    "        train_dir,\n",
    "        target_size=(48,48),\n",
    "        batch_size=batch_size,\n",
    "        color_mode=\"grayscale\",\n",
    "        class_mode='categorical')\n",
    "\n",
    "validation_generator = val_datagen.flow_from_directory(\n",
    "        val_dir,\n",
    "        target_size=(48,48),\n",
    "        batch_size=batch_size,\n",
    "        color_mode=\"grayscale\",\n",
    "        class_mode='categorical')"
   ]
  },
  {
   "cell_type": "markdown",
   "metadata": {},
   "source": [
    "#### Create a CNN model and train it"
   ]
  },
  {
   "cell_type": "code",
   "execution_count": 13,
   "metadata": {},
   "outputs": [],
   "source": [
    "model = Sequential()\n",
    "\n",
    "model.add(Conv2D(32, kernel_size=(3, 3), activation='relu', input_shape=(48,48,1)))\n",
    "model.add(Conv2D(64, kernel_size=(3, 3), activation='relu'))\n",
    "model.add(MaxPooling2D(pool_size=(2, 2)))\n",
    "model.add(Dropout(0.25))\n",
    "\n",
    "model.add(Conv2D(128, kernel_size=(3, 3), activation='relu'))\n",
    "model.add(MaxPooling2D(pool_size=(2, 2)))\n",
    "model.add(Conv2D(128, kernel_size=(3, 3), activation='relu'))\n",
    "model.add(MaxPooling2D(pool_size=(2, 2)))\n",
    "model.add(Dropout(0.25))\n",
    "\n",
    "model.add(Flatten())\n",
    "model.add(Dense(1024, activation='relu'))\n",
    "model.add(Dropout(0.5))\n",
    "model.add(Dense(3, activation='softmax'))"
   ]
  },
  {
   "cell_type": "code",
   "execution_count": 14,
   "metadata": {},
   "outputs": [
    {
     "name": "stdout",
     "output_type": "stream",
     "text": [
      "WARNING:tensorflow:From <ipython-input-14-1b6c894bd5d3>:8: Model.fit_generator (from tensorflow.python.keras.engine.training) is deprecated and will be removed in a future version.\n",
      "Instructions for updating:\n",
      "Please use Model.fit, which supports generators.\n",
      "WARNING:tensorflow:sample_weight modes were coerced from\n",
      "  ...\n",
      "    to  \n",
      "  ['...']\n",
      "WARNING:tensorflow:sample_weight modes were coerced from\n",
      "  ...\n",
      "    to  \n",
      "  ['...']\n",
      "Train for 270 steps, validate for 33 steps\n",
      "Epoch 1/50\n",
      "270/270 [==============================] - 61s 225ms/step - loss: 1.0681 - accuracy: 0.4504 - val_loss: 1.0779 - val_accuracy: 0.4223\n",
      "Epoch 2/50\n",
      "270/270 [==============================] - 62s 230ms/step - loss: 1.0274 - accuracy: 0.4860 - val_loss: 0.9841 - val_accuracy: 0.5284\n",
      "Epoch 3/50\n",
      "270/270 [==============================] - 67s 249ms/step - loss: 0.9456 - accuracy: 0.5532 - val_loss: 0.9231 - val_accuracy: 0.5814\n",
      "Epoch 4/50\n",
      "270/270 [==============================] - 64s 238ms/step - loss: 0.8944 - accuracy: 0.5831 - val_loss: 0.8711 - val_accuracy: 0.6098\n",
      "Epoch 5/50\n",
      "270/270 [==============================] - 66s 244ms/step - loss: 0.8487 - accuracy: 0.6060 - val_loss: 0.8289 - val_accuracy: 0.6259\n",
      "Epoch 6/50\n",
      "270/270 [==============================] - 67s 249ms/step - loss: 0.8112 - accuracy: 0.6254 - val_loss: 0.7975 - val_accuracy: 0.6439\n",
      "Epoch 7/50\n",
      "270/270 [==============================] - 68s 253ms/step - loss: 0.7832 - accuracy: 0.6411 - val_loss: 0.7820 - val_accuracy: 0.6420\n",
      "Epoch 8/50\n",
      "270/270 [==============================] - 71s 262ms/step - loss: 0.7522 - accuracy: 0.6618 - val_loss: 0.7565 - val_accuracy: 0.6619\n",
      "Epoch 9/50\n",
      "270/270 [==============================] - 68s 254ms/step - loss: 0.7258 - accuracy: 0.6714 - val_loss: 0.7338 - val_accuracy: 0.6695\n",
      "Epoch 10/50\n",
      "270/270 [==============================] - 69s 255ms/step - loss: 0.7106 - accuracy: 0.6799 - val_loss: 0.7077 - val_accuracy: 0.6733\n",
      "Epoch 11/50\n",
      "270/270 [==============================] - 69s 257ms/step - loss: 0.6804 - accuracy: 0.6921 - val_loss: 0.7034 - val_accuracy: 0.6818\n",
      "Epoch 12/50\n",
      "270/270 [==============================] - 70s 257ms/step - loss: 0.6676 - accuracy: 0.7033 - val_loss: 0.6973 - val_accuracy: 0.6884\n",
      "Epoch 13/50\n",
      "270/270 [==============================] - 69s 254ms/step - loss: 0.6454 - accuracy: 0.7127 - val_loss: 0.6865 - val_accuracy: 0.6742\n",
      "Epoch 14/50\n",
      "270/270 [==============================] - 66s 246ms/step - loss: 0.6222 - accuracy: 0.7269 - val_loss: 0.6699 - val_accuracy: 0.6970\n",
      "Epoch 15/50\n",
      "270/270 [==============================] - 67s 249ms/step - loss: 0.6016 - accuracy: 0.7366 - val_loss: 0.6554 - val_accuracy: 0.7102\n",
      "Epoch 16/50\n",
      "270/270 [==============================] - 65s 241ms/step - loss: 0.5846 - accuracy: 0.7425 - val_loss: 0.6593 - val_accuracy: 0.7074\n",
      "Epoch 17/50\n",
      "270/270 [==============================] - 65s 241ms/step - loss: 0.5670 - accuracy: 0.7544 - val_loss: 0.6375 - val_accuracy: 0.7188\n",
      "Epoch 18/50\n",
      "270/270 [==============================] - 65s 240ms/step - loss: 0.5478 - accuracy: 0.7651 - val_loss: 0.6382 - val_accuracy: 0.7263\n",
      "Epoch 19/50\n",
      "270/270 [==============================] - 65s 241ms/step - loss: 0.5294 - accuracy: 0.7715 - val_loss: 0.6315 - val_accuracy: 0.7159\n",
      "Epoch 20/50\n",
      "270/270 [==============================] - 65s 242ms/step - loss: 0.5133 - accuracy: 0.7778 - val_loss: 0.6333 - val_accuracy: 0.7150\n",
      "Epoch 21/50\n",
      "270/270 [==============================] - 67s 247ms/step - loss: 0.4975 - accuracy: 0.7923 - val_loss: 0.6399 - val_accuracy: 0.7093\n",
      "Epoch 22/50\n",
      "270/270 [==============================] - 65s 240ms/step - loss: 0.4784 - accuracy: 0.7977 - val_loss: 0.6223 - val_accuracy: 0.7348\n",
      "Epoch 23/50\n",
      "270/270 [==============================] - 65s 241ms/step - loss: 0.4644 - accuracy: 0.8036 - val_loss: 0.6252 - val_accuracy: 0.7263\n",
      "Epoch 24/50\n",
      "270/270 [==============================] - 65s 242ms/step - loss: 0.4452 - accuracy: 0.8097 - val_loss: 0.6373 - val_accuracy: 0.7292\n",
      "Epoch 25/50\n",
      "270/270 [==============================] - 65s 242ms/step - loss: 0.4237 - accuracy: 0.8260 - val_loss: 0.6389 - val_accuracy: 0.7188\n",
      "Epoch 26/50\n",
      "270/270 [==============================] - 66s 243ms/step - loss: 0.4121 - accuracy: 0.8311 - val_loss: 0.6174 - val_accuracy: 0.7188\n",
      "Epoch 27/50\n",
      "270/270 [==============================] - 66s 244ms/step - loss: 0.3935 - accuracy: 0.8381 - val_loss: 0.6258 - val_accuracy: 0.7301\n",
      "Epoch 28/50\n",
      "270/270 [==============================] - 66s 244ms/step - loss: 0.3805 - accuracy: 0.8403 - val_loss: 0.6561 - val_accuracy: 0.7206\n",
      "Epoch 29/50\n",
      "270/270 [==============================] - 66s 245ms/step - loss: 0.3637 - accuracy: 0.8490 - val_loss: 0.6315 - val_accuracy: 0.7339\n",
      "Epoch 30/50\n",
      "270/270 [==============================] - 66s 245ms/step - loss: 0.3522 - accuracy: 0.8562 - val_loss: 0.6329 - val_accuracy: 0.7244\n",
      "Epoch 31/50\n",
      "270/270 [==============================] - 66s 245ms/step - loss: 0.3309 - accuracy: 0.8678 - val_loss: 0.6285 - val_accuracy: 0.7339\n",
      "Epoch 32/50\n",
      "270/270 [==============================] - 66s 244ms/step - loss: 0.3281 - accuracy: 0.8676 - val_loss: 0.6347 - val_accuracy: 0.7244\n",
      "Epoch 33/50\n",
      "270/270 [==============================] - 66s 244ms/step - loss: 0.3044 - accuracy: 0.8787 - val_loss: 0.6630 - val_accuracy: 0.7405\n",
      "Epoch 34/50\n",
      "270/270 [==============================] - 66s 243ms/step - loss: 0.2951 - accuracy: 0.8848 - val_loss: 0.6558 - val_accuracy: 0.7159\n",
      "Epoch 35/50\n",
      "270/270 [==============================] - 66s 245ms/step - loss: 0.2753 - accuracy: 0.8925 - val_loss: 0.6637 - val_accuracy: 0.7434\n",
      "Epoch 36/50\n",
      "270/270 [==============================] - 66s 245ms/step - loss: 0.2661 - accuracy: 0.8925 - val_loss: 0.6748 - val_accuracy: 0.7273\n",
      "Epoch 37/50\n",
      "270/270 [==============================] - 66s 246ms/step - loss: 0.2596 - accuracy: 0.9005 - val_loss: 0.6775 - val_accuracy: 0.7358\n",
      "Epoch 38/50\n",
      "270/270 [==============================] - 68s 254ms/step - loss: 0.2406 - accuracy: 0.9096 - val_loss: 0.6809 - val_accuracy: 0.7292\n",
      "Epoch 39/50\n",
      "270/270 [==============================] - 67s 248ms/step - loss: 0.2253 - accuracy: 0.9127 - val_loss: 0.6786 - val_accuracy: 0.7434\n",
      "Epoch 40/50\n",
      "270/270 [==============================] - 67s 248ms/step - loss: 0.2171 - accuracy: 0.9187 - val_loss: 0.7083 - val_accuracy: 0.7443\n",
      "Epoch 41/50\n",
      "270/270 [==============================] - 66s 245ms/step - loss: 0.2146 - accuracy: 0.9181 - val_loss: 0.7059 - val_accuracy: 0.7396\n",
      "Epoch 42/50\n",
      "270/270 [==============================] - 66s 246ms/step - loss: 0.2028 - accuracy: 0.9225 - val_loss: 0.7183 - val_accuracy: 0.7367\n",
      "Epoch 43/50\n",
      "270/270 [==============================] - 67s 247ms/step - loss: 0.1960 - accuracy: 0.9248 - val_loss: 0.7204 - val_accuracy: 0.7348\n",
      "Epoch 44/50\n",
      "270/270 [==============================] - 67s 247ms/step - loss: 0.1834 - accuracy: 0.9312 - val_loss: 0.7308 - val_accuracy: 0.7311\n",
      "Epoch 45/50\n",
      "270/270 [==============================] - 67s 247ms/step - loss: 0.1785 - accuracy: 0.9314 - val_loss: 0.7349 - val_accuracy: 0.7386\n",
      "Epoch 46/50\n",
      "270/270 [==============================] - 66s 243ms/step - loss: 0.1658 - accuracy: 0.9382 - val_loss: 0.7651 - val_accuracy: 0.7348\n",
      "Epoch 47/50\n",
      "270/270 [==============================] - 65s 242ms/step - loss: 0.1641 - accuracy: 0.9398 - val_loss: 0.7577 - val_accuracy: 0.7396\n",
      "Epoch 48/50\n",
      "270/270 [==============================] - 65s 242ms/step - loss: 0.1467 - accuracy: 0.9459 - val_loss: 0.7660 - val_accuracy: 0.7330\n",
      "Epoch 49/50\n",
      "270/270 [==============================] - 65s 242ms/step - loss: 0.1429 - accuracy: 0.9492 - val_loss: 0.7720 - val_accuracy: 0.7509\n",
      "Epoch 50/50\n",
      "270/270 [==============================] - 65s 242ms/step - loss: 0.1486 - accuracy: 0.9434 - val_loss: 0.7563 - val_accuracy: 0.7415\n"
     ]
    }
   ],
   "source": [
    "model.compile(loss='categorical_crossentropy',optimizer=Adam(lr=0.0001, decay=1e-6),metrics=['accuracy'])\n",
    "model_info = model.fit_generator(\n",
    "            train_generator,\n",
    "            steps_per_epoch=num_train // batch_size,\n",
    "            epochs=num_epoch,\n",
    "            validation_data=validation_generator,\n",
    "            validation_steps=num_val // batch_size)\n",
    "model.save_weights('./source/model.h5')"
   ]
  },
  {
   "cell_type": "markdown",
   "metadata": {},
   "source": [
    "#### Plot the graphs for accuracy and losses"
   ]
  },
  {
   "cell_type": "code",
   "execution_count": 15,
   "metadata": {},
   "outputs": [
    {
     "name": "stderr",
     "output_type": "stream",
     "text": [
      "C:\\Users\\SHIVAM\\AppData\\Roaming\\Python\\Python37\\site-packages\\ipykernel_launcher.py:8: MatplotlibDeprecationWarning: Passing the minor parameter of set_xticks() positionally is deprecated since Matplotlib 3.2; the parameter will become keyword-only two minor releases later.\n",
      "  \n",
      "C:\\Users\\SHIVAM\\AppData\\Roaming\\Python\\Python37\\site-packages\\ipykernel_launcher.py:17: MatplotlibDeprecationWarning: Passing the minor parameter of set_xticks() positionally is deprecated since Matplotlib 3.2; the parameter will become keyword-only two minor releases later.\n"
     ]
    },
    {
     "data": {
      "image/png": "[encoded data removed]",
      "text/plain": [
       "<Figure size 1080x360 with 2 Axes>"
      ]
     },
     "metadata": {
      "needs_background": "light"
     },
     "output_type": "display_data"
    }
   ],
   "source": [
    "fig, axs = plt.subplots(1,2,figsize=(15,5))\n",
    "\n",
    "axs[0].plot(range(1,len(model_info.history['accuracy'])+1),model_info.history['accuracy'])\n",
    "axs[0].plot(range(1,len(model_info.history['val_accuracy'])+1),model_info.history['val_accuracy'])\n",
    "axs[0].set_title('Model Accuracy')\n",
    "axs[0].set_ylabel('Accuracy')\n",
    "axs[0].set_xlabel('Epoch')\n",
    "axs[0].set_xticks(np.arange(1,len(model_info.history['accuracy'])+1),len(model_info.history['accuracy'])/10)\n",
    "axs[0].legend(['train', 'val'], loc='best')\n",
    "\n",
    "    \n",
    "axs[1].plot(range(1,len(model_info.history['loss'])+1),model_info.history['loss'])\n",
    "axs[1].plot(range(1,len(model_info.history['val_loss'])+1),model_info.history['val_loss'])\n",
    "axs[1].set_title('Model Loss')\n",
    "axs[1].set_ylabel('Loss')\n",
    "axs[1].set_xlabel('Epoch')\n",
    "axs[1].set_xticks(np.arange(1,len(model_info.history['loss'])+1),len(model_info.history['loss'])/10)\n",
    "axs[1].legend(['train', 'val'], loc='best')\n",
    "    \n",
    "fig.savefig('./source/plot.png')\n",
    "plt.show()"
   ]
  },
  {
   "cell_type": "markdown",
   "metadata": {},
   "source": [
    "### Test the model"
   ]
  },
  {
   "cell_type": "code",
   "execution_count": 16,
   "metadata": {},
   "outputs": [],
   "source": [
    "test = testcsv\n",
    "test.name='test'\n",
    "getImageinDirectory(test);"
   ]
  },
  {
   "cell_type": "code",
   "execution_count": 17,
   "metadata": {},
   "outputs": [
    {
     "name": "stdout",
     "output_type": "stream",
     "text": [
      "Found 1082 images belonging to 3 classes.\n",
      "WARNING:tensorflow:From <ipython-input-17-54032ced962d>:25: Model.predict_generator (from tensorflow.python.keras.engine.training) is deprecated and will be removed in a future version.\n",
      "Instructions for updating:\n",
      "Please use Model.predict, which supports generators.\n",
      "(1082, 3)\n"
     ]
    }
   ],
   "source": [
    "model.load_weights('./source/model.h5')\n",
    "\n",
    "# prevents openCL usage and unnecessary logging messages\n",
    "cv2.ocl.setUseOpenCL(False)\n",
    "\n",
    "# dictionary which assigns each label an emotion (alphabetical order)\n",
    "\n",
    "test_dir = './source/test'\n",
    "\n",
    "test_val = len(test)\n",
    "batch_size = 1\n",
    "\n",
    "test_datagen = ImageDataGenerator(rescale=1./255)\n",
    "test_generator = test_datagen.flow_from_directory(\n",
    "        test_dir,\n",
    "        target_size=(48,48),\n",
    "        batch_size=batch_size,\n",
    "        color_mode=\"grayscale\",\n",
    "        shuffle = False,\n",
    "        class_mode='categorical')\n",
    "\n",
    "filenames = test_generator.filenames\n",
    "nb_samples = len(filenames)\n",
    "\n",
    "predict = model.predict_generator(test_generator,steps = nb_samples)\n",
    "print(predict.shape);\n"
   ]
  },
  {
   "cell_type": "code",
   "execution_count": 18,
   "metadata": {},
   "outputs": [],
   "source": [
    "emotion_dict = {0: \"Fear\", 1: \"Happy\", 2: \"Sad\"}"
   ]
  },
  {
   "cell_type": "code",
   "execution_count": 19,
   "metadata": {},
   "outputs": [],
   "source": [
    "prediction=[];\n",
    "for i in range(len(predict)):\n",
    "    prediction.append(int(np.argmax(predict[i])));    \n",
    "    frame= cv2.imread('.\\\\source\\\\test\\\\'+filenames[i])\n",
    "    facecasc = cv2.CascadeClassifier('./source/haarcascade_frontalface_default.xml')\n",
    "    gray = cv2.cvtColor(frame, cv2.COLOR_BGR2GRAY)\n",
    "    faces = facecasc.detectMultiScale(gray,scaleFactor=1.1, minNeighbors=5)\n",
    "        \n",
    "    for (x, y, w, h) in faces:\n",
    "        cv2.rectangle(frame, (x, y-10), (x+w, y+h), (255, 0, 0), 2)\n",
    "        roi_gray = gray[y:y + h, x:x + w]\n",
    "        cropped_img = np.expand_dims(np.expand_dims(cv2.resize(roi_gray, (48, 48)), -1), 0)\n",
    "        maxindex = int(np.argmax(predict[i]))\n",
    "        cv2.putText(frame, emotion_dict[maxindex], (x, y+w), cv2.FONT_HERSHEY_SIMPLEX, 0.5, (0, 0, 255), 2, cv2.LINE_AA);\n",
    "        cv2.imwrite('./source/output/'+  filenames[i] +'.png', frame)\n",
    "    \n",
    "cv2.waitKey(0)\n",
    "cv2.destroyAllWindows();\n"
   ]
  },
  {
   "cell_type": "markdown",
   "metadata": {},
   "source": [
    "#### Plot the confusion matrix and the accuracy"
   ]
  },
  {
   "cell_type": "code",
   "execution_count": 20,
   "metadata": {},
   "outputs": [
    {
     "name": "stdout",
     "output_type": "stream",
     "text": [
      "[[144  16  67]\n",
      " [ 29 412  42]\n",
      " [113  38 221]]\n"
     ]
    }
   ],
   "source": [
    "test_labels=test_generator.classes\n",
    "cm=confusion_matrix(prediction,test_labels)\n",
    "print (cm)"
   ]
  },
  {
   "cell_type": "code",
   "execution_count": 21,
   "metadata": {},
   "outputs": [
    {
     "data": {
      "image/png": "[encoded data removed]",
      "text/plain": [
       "<Figure size 432x288 with 2 Axes>"
      ]
     },
     "metadata": {
      "needs_background": "light"
     },
     "output_type": "display_data"
    }
   ],
   "source": [
    "ax= plt.subplot()\n",
    "sns.heatmap(cm, annot=True, ax = ax, fmt='g'); #annot=True to annotate cells\n",
    "\n",
    "# labels, title and ticks\n",
    "ax.set_xlabel('Predicted Moods');ax.set_ylabel('True Moods'); \n",
    "ax.set_title('Confusion Matrix of with accuracy of %s' %\n",
    "                 (str(round(accuracy_score(prediction, test_labels),2))))\n",
    "ax.xaxis.set_ticklabels(['fear', 'happy', 'sad']); ax.yaxis.set_ticklabels(['fear', 'happy', 'sad']);\n",
    "plt.savefig('./source/confusion-matrix.png')"
   ]
  },
  {
   "cell_type": "code",
   "execution_count": 22,
   "metadata": {},
   "outputs": [
    {
     "name": "stdout",
     "output_type": "stream",
     "text": [
      "0.7181146025878004\n"
     ]
    }
   ],
   "source": [
    "print(accuracy_score(prediction,test_labels))"
   ]
  },
  {
   "cell_type": "code",
   "execution_count": 23,
   "metadata": {},
   "outputs": [],
   "source": [
    "res = [emotion_dict[i] for i in prediction] "
   ]
  },
  {
   "cell_type": "code",
   "execution_count": 24,
   "metadata": {},
   "outputs": [
    {
     "name": "stdout",
     "output_type": "stream",
     "text": [
      "['Fear', 'Fear', 'Sad', 'Fear', 'Sad', 'Sad', 'Happy', 'Sad', 'Fear', 'Happy', 'Fear', 'Sad', 'Fear', 'Fear', 'Happy', 'Happy', 'Fear', 'Sad', 'Fear', 'Fear', 'Fear', 'Sad', 'Fear', 'Sad', 'Fear', 'Sad', 'Sad', 'Fear', 'Fear', 'Fear', 'Fear', 'Sad', 'Fear', 'Sad', 'Sad', 'Sad', 'Fear', 'Happy', 'Happy', 'Sad', 'Fear', 'Fear', 'Fear', 'Sad', 'Happy', 'Fear', 'Fear', 'Fear', 'Fear', 'Sad', 'Fear', 'Sad', 'Fear', 'Fear', 'Fear', 'Fear', 'Fear', 'Sad', 'Fear', 'Fear', 'Fear', 'Fear', 'Sad', 'Sad', 'Fear', 'Sad', 'Sad', 'Sad', 'Sad', 'Sad', 'Sad', 'Fear', 'Fear', 'Sad', 'Fear', 'Sad', 'Fear', 'Happy', 'Fear', 'Sad', 'Sad', 'Happy', 'Fear', 'Fear', 'Sad', 'Fear', 'Fear', 'Fear', 'Fear', 'Sad', 'Fear', 'Fear', 'Happy', 'Sad', 'Fear', 'Fear', 'Sad', 'Sad', 'Sad', 'Happy', 'Fear', 'Fear', 'Sad', 'Fear', 'Fear', 'Sad', 'Fear', 'Sad', 'Sad', 'Fear', 'Fear', 'Happy', 'Fear', 'Sad', 'Fear', 'Happy', 'Fear', 'Sad', 'Happy', 'Fear', 'Fear', 'Sad', 'Fear', 'Fear', 'Fear', 'Sad', 'Sad', 'Sad', 'Sad', 'Happy', 'Fear', 'Fear', 'Sad', 'Fear', 'Fear', 'Sad', 'Sad', 'Fear', 'Fear', 'Fear', 'Fear', 'Fear', 'Sad', 'Fear', 'Sad', 'Fear', 'Fear', 'Fear', 'Sad', 'Sad', 'Sad', 'Fear', 'Fear', 'Happy', 'Fear', 'Sad', 'Sad', 'Fear', 'Sad', 'Fear', 'Sad', 'Sad', 'Fear', 'Fear', 'Sad', 'Fear', 'Fear', 'Fear', 'Sad', 'Sad', 'Sad', 'Fear', 'Fear', 'Sad', 'Fear', 'Sad', 'Happy', 'Fear', 'Fear', 'Sad', 'Sad', 'Sad', 'Sad', 'Sad', 'Fear', 'Sad', 'Sad', 'Sad', 'Fear', 'Fear', 'Fear', 'Sad', 'Sad', 'Fear', 'Sad', 'Sad', 'Sad', 'Fear', 'Fear', 'Fear', 'Sad', 'Sad', 'Sad', 'Fear', 'Happy', 'Sad', 'Sad', 'Sad', 'Sad', 'Fear', 'Fear', 'Sad', 'Sad', 'Fear', 'Happy', 'Sad', 'Happy', 'Sad', 'Fear', 'Happy', 'Fear', 'Fear', 'Sad', 'Sad', 'Fear', 'Fear', 'Sad', 'Happy', 'Sad', 'Fear', 'Happy', 'Fear', 'Sad', 'Fear', 'Sad', 'Fear', 'Happy', 'Sad', 'Sad', 'Fear', 'Sad', 'Fear', 'Fear', 'Fear', 'Happy', 'Fear', 'Fear', 'Sad', 'Sad', 'Happy', 'Fear', 'Fear', 'Fear', 'Fear', 'Sad', 'Sad', 'Fear', 'Fear', 'Sad', 'Sad', 'Fear', 'Fear', 'Fear', 'Happy', 'Fear', 'Sad', 'Sad', 'Fear', 'Fear', 'Sad', 'Fear', 'Fear', 'Happy', 'Fear', 'Sad', 'Fear', 'Sad', 'Fear', 'Fear', 'Happy', 'Sad', 'Fear', 'Sad', 'Fear', 'Fear', 'Fear', 'Happy', 'Happy', 'Happy', 'Happy', 'Happy', 'Happy', 'Happy', 'Happy', 'Happy', 'Happy', 'Fear', 'Happy', 'Happy', 'Happy', 'Happy', 'Happy', 'Happy', 'Happy', 'Happy', 'Happy', 'Happy', 'Happy', 'Fear', 'Happy', 'Happy', 'Happy', 'Sad', 'Happy', 'Happy', 'Happy', 'Happy', 'Sad', 'Happy', 'Happy', 'Happy', 'Happy', 'Happy', 'Happy', 'Happy', 'Happy', 'Happy', 'Happy', 'Fear', 'Happy', 'Happy', 'Fear', 'Happy', 'Happy', 'Happy', 'Happy', 'Happy', 'Sad', 'Happy', 'Happy', 'Sad', 'Happy', 'Happy', 'Happy', 'Happy', 'Happy', 'Happy', 'Happy', 'Happy', 'Happy', 'Happy', 'Happy', 'Happy', 'Happy', 'Happy', 'Happy', 'Happy', 'Happy', 'Happy', 'Happy', 'Happy', 'Happy', 'Happy', 'Happy', 'Happy', 'Fear', 'Happy', 'Happy', 'Happy', 'Happy', 'Happy', 'Happy', 'Happy', 'Sad', 'Happy', 'Happy', 'Happy', 'Happy', 'Happy', 'Happy', 'Happy', 'Happy', 'Sad', 'Happy', 'Happy', 'Sad', 'Happy', 'Happy', 'Happy', 'Sad', 'Happy', 'Happy', 'Happy', 'Happy', 'Happy', 'Happy', 'Sad', 'Sad', 'Happy', 'Happy', 'Happy', 'Happy', 'Happy', 'Happy', 'Happy', 'Happy', 'Happy', 'Happy', 'Sad', 'Happy', 'Happy', 'Happy', 'Happy', 'Happy', 'Happy', 'Happy', 'Happy', 'Happy', 'Sad', 'Happy', 'Happy', 'Happy', 'Happy', 'Happy', 'Happy', 'Happy', 'Happy', 'Happy', 'Happy', 'Happy', 'Happy', 'Happy', 'Happy', 'Happy', 'Happy', 'Happy', 'Happy', 'Happy', 'Happy', 'Sad', 'Happy', 'Happy', 'Sad', 'Happy', 'Happy', 'Sad', 'Sad', 'Happy', 'Happy', 'Happy', 'Happy', 'Happy', 'Happy', 'Happy', 'Sad', 'Happy', 'Happy', 'Happy', 'Happy', 'Happy', 'Happy', 'Happy', 'Happy', 'Happy', 'Happy', 'Happy', 'Happy', 'Happy', 'Happy', 'Happy', 'Happy', 'Happy', 'Happy', 'Happy', 'Happy', 'Happy', 'Happy', 'Happy', 'Happy', 'Happy', 'Happy', 'Happy', 'Happy', 'Happy', 'Happy', 'Happy', 'Happy', 'Happy', 'Happy', 'Fear', 'Happy', 'Happy', 'Happy', 'Sad', 'Happy', 'Fear', 'Happy', 'Sad', 'Happy', 'Fear', 'Happy', 'Happy', 'Happy', 'Happy', 'Sad', 'Happy', 'Happy', 'Happy', 'Happy', 'Happy', 'Happy', 'Happy', 'Happy', 'Happy', 'Happy', 'Happy', 'Happy', 'Happy', 'Happy', 'Happy', 'Happy', 'Happy', 'Happy', 'Happy', 'Happy', 'Happy', 'Sad', 'Happy', 'Happy', 'Happy', 'Happy', 'Happy', 'Happy', 'Happy', 'Happy', 'Happy', 'Happy', 'Happy', 'Happy', 'Happy', 'Happy', 'Happy', 'Happy', 'Happy', 'Happy', 'Happy', 'Happy', 'Happy', 'Happy', 'Happy', 'Sad', 'Sad', 'Happy', 'Happy', 'Sad', 'Happy', 'Happy', 'Happy', 'Happy', 'Sad', 'Happy', 'Happy', 'Sad', 'Happy', 'Happy', 'Fear', 'Happy', 'Happy', 'Fear', 'Happy', 'Happy', 'Happy', 'Happy', 'Happy', 'Happy', 'Sad', 'Sad', 'Happy', 'Happy', 'Happy', 'Happy', 'Happy', 'Happy', 'Happy', 'Fear', 'Happy', 'Happy', 'Happy', 'Happy', 'Happy', 'Happy', 'Happy', 'Happy', 'Happy', 'Happy', 'Happy', 'Happy', 'Happy', 'Happy', 'Happy', 'Happy', 'Happy', 'Happy', 'Sad', 'Sad', 'Happy', 'Happy', 'Happy', 'Happy', 'Happy', 'Fear', 'Happy', 'Happy', 'Happy', 'Happy', 'Happy', 'Happy', 'Happy', 'Happy', 'Happy', 'Happy', 'Happy', 'Happy', 'Happy', 'Happy', 'Happy', 'Happy', 'Happy', 'Happy', 'Happy', 'Happy', 'Happy', 'Happy', 'Happy', 'Happy', 'Happy', 'Happy', 'Happy', 'Happy', 'Sad', 'Happy', 'Happy', 'Happy', 'Fear', 'Happy', 'Sad', 'Happy', 'Happy', 'Happy', 'Happy', 'Happy', 'Happy', 'Sad', 'Happy', 'Happy', 'Happy', 'Sad', 'Happy', 'Happy', 'Happy', 'Happy', 'Sad', 'Happy', 'Happy', 'Sad', 'Happy', 'Happy', 'Happy', 'Happy', 'Happy', 'Happy', 'Happy', 'Happy', 'Happy', 'Happy', 'Happy', 'Happy', 'Happy', 'Happy', 'Happy', 'Happy', 'Happy', 'Happy', 'Happy', 'Happy', 'Happy', 'Happy', 'Happy', 'Happy', 'Happy', 'Happy', 'Happy', 'Happy', 'Happy', 'Sad', 'Happy', 'Happy', 'Fear', 'Happy', 'Happy', 'Happy', 'Happy', 'Happy', 'Happy', 'Happy', 'Happy', 'Happy', 'Happy', 'Happy', 'Happy', 'Fear', 'Happy', 'Happy', 'Happy', 'Happy', 'Happy', 'Happy', 'Happy', 'Happy', 'Happy', 'Happy', 'Happy', 'Happy', 'Happy', 'Happy', 'Happy', 'Happy', 'Happy', 'Happy', 'Happy', 'Happy', 'Happy', 'Happy', 'Happy', 'Happy', 'Happy', 'Happy', 'Happy', 'Happy', 'Sad', 'Happy', 'Happy', 'Happy', 'Happy', 'Happy', 'Happy', 'Happy', 'Happy', 'Happy', 'Happy', 'Fear', 'Happy', 'Sad', 'Happy', 'Happy', 'Happy', 'Sad', 'Sad', 'Sad', 'Sad', 'Sad', 'Fear', 'Sad', 'Sad', 'Fear', 'Fear', 'Sad', 'Sad', 'Happy', 'Happy', 'Sad', 'Sad', 'Sad', 'Sad', 'Sad', 'Sad', 'Sad', 'Sad', 'Fear', 'Sad', 'Sad', 'Sad', 'Sad', 'Sad', 'Fear', 'Sad', 'Sad', 'Happy', 'Sad', 'Sad', 'Sad', 'Sad', 'Sad', 'Sad', 'Sad', 'Sad', 'Fear', 'Sad', 'Sad', 'Sad', 'Sad', 'Sad', 'Sad', 'Fear', 'Sad', 'Happy', 'Sad', 'Fear', 'Sad', 'Happy', 'Fear', 'Sad', 'Fear', 'Fear', 'Fear', 'Fear', 'Happy', 'Sad', 'Sad', 'Sad', 'Sad', 'Happy', 'Sad', 'Sad', 'Sad', 'Sad', 'Fear', 'Sad', 'Sad', 'Sad', 'Sad', 'Fear', 'Fear', 'Sad', 'Sad', 'Sad', 'Sad', 'Fear', 'Happy', 'Fear', 'Sad', 'Fear', 'Fear', 'Sad', 'Sad', 'Sad', 'Fear', 'Sad', 'Sad', 'Sad', 'Sad', 'Sad', 'Sad', 'Happy', 'Sad', 'Sad', 'Fear', 'Fear', 'Sad', 'Fear', 'Happy', 'Fear', 'Sad', 'Sad', 'Sad', 'Sad', 'Sad', 'Sad', 'Sad', 'Sad', 'Sad', 'Happy', 'Sad', 'Fear', 'Sad', 'Fear', 'Sad', 'Sad', 'Fear', 'Sad', 'Sad', 'Sad', 'Sad', 'Sad', 'Fear', 'Sad', 'Fear', 'Sad', 'Sad', 'Sad', 'Sad', 'Sad', 'Sad', 'Sad', 'Sad', 'Sad', 'Sad', 'Sad', 'Sad', 'Sad', 'Sad', 'Happy', 'Fear', 'Happy', 'Sad', 'Fear', 'Fear', 'Sad', 'Sad', 'Sad', 'Fear', 'Fear', 'Sad', 'Fear', 'Sad', 'Sad', 'Sad', 'Sad', 'Sad', 'Sad', 'Happy', 'Happy', 'Happy', 'Fear', 'Happy', 'Sad', 'Sad', 'Sad', 'Sad', 'Fear', 'Sad', 'Sad', 'Sad', 'Sad', 'Sad', 'Sad', 'Fear', 'Sad', 'Sad', 'Sad', 'Happy', 'Sad', 'Fear', 'Sad', 'Sad', 'Sad', 'Sad', 'Sad', 'Fear', 'Sad', 'Happy', 'Sad', 'Sad', 'Fear', 'Sad', 'Sad', 'Sad', 'Sad', 'Happy', 'Sad', 'Happy', 'Sad', 'Fear', 'Sad', 'Sad', 'Sad', 'Sad', 'Sad', 'Fear', 'Fear', 'Sad', 'Sad', 'Happy', 'Fear', 'Sad', 'Sad', 'Sad', 'Fear', 'Sad', 'Sad', 'Sad', 'Sad', 'Sad', 'Sad', 'Sad', 'Fear', 'Sad', 'Sad', 'Happy', 'Sad', 'Sad', 'Sad', 'Fear', 'Sad', 'Sad', 'Happy', 'Fear', 'Happy', 'Fear', 'Sad', 'Fear', 'Happy', 'Sad', 'Fear', 'Sad', 'Sad', 'Sad', 'Sad', 'Sad', 'Sad', 'Sad', 'Happy', 'Fear', 'Sad', 'Happy', 'Fear', 'Sad', 'Sad', 'Sad', 'Sad', 'Fear', 'Sad', 'Sad', 'Sad', 'Sad', 'Sad', 'Happy', 'Sad', 'Sad', 'Happy', 'Sad', 'Fear', 'Happy', 'Fear', 'Sad', 'Sad', 'Sad', 'Sad', 'Happy', 'Fear', 'Fear', 'Happy', 'Sad', 'Sad', 'Sad', 'Sad', 'Sad', 'Happy', 'Sad', 'Sad', 'Sad', 'Sad', 'Fear', 'Sad', 'Sad', 'Sad', 'Sad', 'Happy', 'Sad', 'Fear', 'Happy', 'Fear', 'Sad', 'Sad', 'Happy', 'Happy', 'Fear', 'Sad', 'Fear', 'Happy', 'Sad', 'Sad', 'Sad', 'Sad', 'Sad', 'Sad', 'Fear', 'Sad', 'Fear', 'Sad', 'Sad', 'Sad']\n"
     ]
    }
   ],
   "source": [
    "print(res)"
   ]
  },
  {
   "cell_type": "markdown",
   "metadata": {},
   "source": [
    "# THE END"
   ]
  }
 ],
 "metadata": {
  "kernelspec": {
   "display_name": "Python 3",
   "language": "python",
   "name": "python3"
  },
  "language_info": {
   "codemirror_mode": {
    "name": "ipython",
    "version": 3
   },
   "file_extension": ".py",
   "mimetype": "text/x-python",
   "name": "python",
   "nbconvert_exporter": "python",
   "pygments_lexer": "ipython3",
   "version": "3.7.3"
  }
 },
 "nbformat": 4,
 "nbformat_minor": 4
}
